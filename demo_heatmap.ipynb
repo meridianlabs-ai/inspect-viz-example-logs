{
 "cells": [
  {
   "cell_type": "code",
   "execution_count": 1,
   "id": "956030bd",
   "metadata": {},
   "outputs": [],
   "source": [
    "from typing import Any, List, cast\n",
    "\n",
    "import numpy as np\n",
    "from inspect_ai.analysis.beta import (\n",
    "    EvalInfo,\n",
    "    EvalModel,\n",
    "    EvalTask,\n",
    "    SampleColumn,\n",
    "    SampleSummary,\n",
    "    evals_df,\n",
    "    samples_df,\n",
    ")\n",
    "from inspect_ai.analysis.beta._dataframe.extract import score_values\n",
    "from inspect_ai.scorer import value_to_float\n",
    "from inspect_viz import Data\n",
    "from pydantic import JsonValue\n",
    "\n",
    "from evals import evals_bar_plot, evals_table\n",
    "\n",
    "to_float = value_to_float()\n",
    "\n",
    "\n",
    "def scores(x: JsonValue) -> JsonValue:\n",
    "    \"\"\"Extract the headline score\"\"\"\n",
    "    scores = cast(dict[str, Any], x)\n",
    "    processed_scores = [to_float(v[\"value\"]) for k, v in scores.items()]\n",
    "    return processed_scores[0] if processed_scores else 0.0\n",
    "\n",
    "\n",
    "simple_score = SampleColumn(\"score\", path=\"scores\", value=scores)\n",
    "\n",
    "df = samples_df(\n",
    "    \"logs/aime/\",\n",
    "    columns=SampleSummary + EvalInfo + EvalTask + EvalModel + [simple_score],\n",
    ")"
   ]
  },
  {
   "cell_type": "code",
   "execution_count": 2,
   "id": "d7dc08e6",
   "metadata": {},
   "outputs": [
    {
     "data": {
      "application/vnd.jupyter.widget-view+json": {
       "model_id": "4278d31dbeb545139a47a72ea60a25ed",
       "version_major": 2,
       "version_minor": 1
      },
      "text/plain": [
       "Component(spec='{\"vconcat\":[{\"hconcat\":[{\"input\":\"select\",\"multiple\":false,\"value\":\"all\",\"label\":\"id: \",\"from\"…"
      ]
     },
     "execution_count": 2,
     "metadata": {},
     "output_type": "execute_result"
    }
   ],
   "source": [
    "from evals import evals_heatmap_plot\n",
    "\n",
    "evals_heatmap_plot(Data.from_dataframe(df))"
   ]
  },
  {
   "cell_type": "markdown",
   "id": "c41f4831",
   "metadata": {},
   "source": [
    "### first calculate pass@k in pandas"
   ]
  },
  {
   "cell_type": "code",
   "execution_count": 3,
   "id": "dad25dca",
   "metadata": {},
   "outputs": [],
   "source": [
    "def pass_at_k(k: int, values: List[float]) -> float:\n",
    "    total = len(values)\n",
    "    correct = sum(v for v in values)\n",
    "\n",
    "    if len(values) < k:\n",
    "        raise ValueError(\n",
    "            f\"Cannot compute pass@{k} for {total} values. \"\n",
    "            \"Please ensure that the number of values is at least k.\"\n",
    "        )\n",
    "    if total - correct < k:\n",
    "        return 1.0\n",
    "    else:\n",
    "        numerators = np.arange(total - correct + 1, total + 1)\n",
    "        probs_miss = np.prod(1.0 - k / numerators)\n",
    "        return 1.0 - cast(float, probs_miss.item())\n",
    "\n",
    "\n",
    "df[\"model\"] = df[\"model\"].apply(lambda x: x.split(\"/\")[-1] if isinstance(x, str) else x)\n",
    "ks = [1, 2, 3, 4, 5]\n",
    "\n",
    "grouped = (\n",
    "    df.groupby([\"model\", \"task_name\", \"id\"])[\"score\"]\n",
    "    .apply(list)\n",
    "    .reset_index(name=\"scores\")\n",
    ")\n",
    "\n",
    "\n",
    "for k in ks:\n",
    "    grouped[k] = grouped[\"scores\"].apply(lambda vals: pass_at_k(k, vals))"
   ]
  },
  {
   "cell_type": "code",
   "execution_count": 4,
   "id": "d0aeced3",
   "metadata": {},
   "outputs": [
    {
     "name": "stderr",
     "output_type": "stream",
     "text": [
      "/home/ubuntu/inspect-viz-sandbox/.venv/lib/python3.12/site-packages/pandas/core/frame.py:1025: UserWarning: The DataFrame has column names of mixed type. They will be converted to strings and not roundtrip correctly.\n",
      "  table = pa.Table.from_pandas(self, schema=requested_schema)\n"
     ]
    },
    {
     "data": {
      "application/vnd.jupyter.widget-view+json": {
       "model_id": "0bedfe958b58417d8e6f90cd7db05e70",
       "version_major": 2,
       "version_minor": 1
      },
      "text/plain": [
       "Component(spec='{\"vconcat\":[{\"hconcat\":[{\"input\":\"select\",\"multiple\":false,\"value\":\"all\",\"label\":\"id: \",\"from\"…"
      ]
     },
     "execution_count": 4,
     "metadata": {},
     "output_type": "execute_result"
    }
   ],
   "source": [
    "from evals import evals_pass_at_k_heatmap_plot\n",
    "\n",
    "evals_pass_at_k_heatmap_plot(Data.from_dataframe(grouped), min_k=1, max_k=5)"
   ]
  }
 ],
 "metadata": {
  "kernelspec": {
   "display_name": ".venv",
   "language": "python",
   "name": "python3"
  },
  "language_info": {
   "codemirror_mode": {
    "name": "ipython",
    "version": 3
   },
   "file_extension": ".py",
   "mimetype": "text/x-python",
   "name": "python",
   "nbconvert_exporter": "python",
   "pygments_lexer": "ipython3",
   "version": "3.12.3"
  }
 },
 "nbformat": 4,
 "nbformat_minor": 5
}
