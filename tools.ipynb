{
 "cells": [
  {
   "cell_type": "code",
   "execution_count": 1,
   "id": "005a134b",
   "metadata": {},
   "outputs": [],
   "source": [
    "from inspect_ai.analysis.beta import evals_df, messages_df, EvalModel,  MessageColumns, SampleSummary, prepare, log_viewer, model_info"
   ]
  },
  {
   "cell_type": "code",
   "execution_count": 2,
   "id": "d4c559c4",
   "metadata": {},
   "outputs": [],
   "source": [
    "# read messages from log\n",
    "df = messages_df(\"logs/cybench\", columns=EvalModel + SampleSummary + MessageColumns, parallel=True)\n",
    "\n",
    "# trim columns\n",
    "df = df[[\n",
    "    \"eval_id\",\n",
    "    \"sample_id\",\n",
    "    \"message_id\",\n",
    "    \"model\",\n",
    "    \"id\",\n",
    "    \"order\",\n",
    "    \"tool_call_function\",\n",
    "    \"limit\",\n",
    "    \"log\"\n",
    "]]\n",
    "\n",
    "df = prepare(df, [\n",
    "    model_info(),\n",
    "    log_viewer(\"message\", url_mappings={\n",
    "      \"logs\": \"https://samples.meridianlabs.ai/\"  \n",
    "    })\n",
    "])\n",
    "\n",
    "# write to parquet\n",
    "df.to_parquet(\"cybench_tools.parquet\")"
   ]
  },
  {
   "cell_type": "code",
   "execution_count": 1,
   "id": "3772b1b9",
   "metadata": {},
   "outputs": [
    {
     "data": {
      "text/plain": [
       "['Claude Sonnet 4', 'o4 Mini', 'o3', 'Claude 3.7 Sonnet']"
      ]
     },
     "execution_count": 1,
     "metadata": {},
     "output_type": "execute_result"
    }
   ],
   "source": [
    "from inspect_ai.analysis.beta import evals_df, messages_df, EvalModel,  MessageColumns, SampleSummary, prepare, log_viewer, model_info\n",
    "\n",
    "df = evals_df(\"logs/cybench\")\n",
    "\n",
    "df = prepare(df, [\n",
    "    model_info(),\n",
    "    log_viewer(\"eval\", url_mappings={\n",
    "      \"logs\": \"https://samples.meridianlabs.ai/\"  \n",
    "    })\n",
    "])\n",
    "\n",
    "df.to_parquet(\"cybench.parquet\")\n",
    "\n",
    "df.head()[\"model_display_name\"].to_list()"
   ]
  }
 ],
 "metadata": {
  "kernelspec": {
   "display_name": ".venv",
   "language": "python",
   "name": "python3"
  },
  "language_info": {
   "codemirror_mode": {
    "name": "ipython",
    "version": 3
   },
   "file_extension": ".py",
   "mimetype": "text/x-python",
   "name": "python",
   "nbconvert_exporter": "python",
   "pygments_lexer": "ipython3",
   "version": "3.12.0"
  }
 },
 "nbformat": 4,
 "nbformat_minor": 5
}
